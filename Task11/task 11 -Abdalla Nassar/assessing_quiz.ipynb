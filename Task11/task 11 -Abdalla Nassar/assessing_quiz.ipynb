{
 "cells": [
  {
   "cell_type": "markdown",
   "metadata": {},
   "source": [
    "# Assessing\n",
    "Use the space below to explore `winequality-red.csv` and `winequality-white.csv` to answer the quiz questions below."
   ]
  },
  {
   "attachments": {},
   "cell_type": "markdown",
   "metadata": {},
   "source": [
    "<p style=\"font-family: Arial; font-size:2em;color:gold; text-align:center;\">---->Abdalla Nassar<---- </p>"
   ]
  },
  {
   "cell_type": "code",
   "execution_count": 1,
   "metadata": {},
   "outputs": [],
   "source": [
    "# Answer the following questions:\n",
    "# number of samples in each dataset?__________\n",
    "# number of columns in each dataset?__________\n",
    "# features with missing values?__________ \n",
    "# duplicate rows in the white wine dataset? __________\n",
    "# number of unique values for quality in each dataset?_________\n",
    "# mean density of the red wine dataset?____________"
   ]
  },
  {
   "cell_type": "code",
   "execution_count": 2,
   "metadata": {},
   "outputs": [],
   "source": [
    "import pandas as pd \n",
    "df_red=pd.read_csv(\"winequality-red.csv\", sep=\";\")\n",
    "df_white=pd.read_csv(\"winequality-white.csv\", sep=\";\")"
   ]
  },
  {
   "cell_type": "code",
   "execution_count": 3,
   "metadata": {},
   "outputs": [
    {
     "name": "stdout",
     "output_type": "stream",
     "text": [
      "number of samples winequality-red: 1599 \n",
      "number of samples winequality-white: 4898 \n",
      "************************************************************\n",
      "number of samples winequality-red: 1599 \n",
      "number of samples winequality-white: 4898 \n"
     ]
    }
   ],
   "source": [
    "# number of samples in each dataset?\n",
    "print(\"number of samples winequality-red: {} \".format(df_red.shape[0]))\n",
    "print(\"number of samples winequality-white: {} \".format(df_white.shape[0]))\n",
    "print(\"*\"*60)\n",
    "print(\"number of samples winequality-red: {} \".format(len(df_red)))\n",
    "print(\"number of samples winequality-white: {} \".format(len(df_white)))"
   ]
  },
  {
   "cell_type": "code",
   "execution_count": 4,
   "metadata": {},
   "outputs": [
    {
     "name": "stdout",
     "output_type": "stream",
     "text": [
      "number of columns winequality-red: 12 \n",
      "number of columns winequality-white: 12 \n",
      "************************************************************\n",
      "number of columns winequality-red: 12 \n",
      "number of columns winequality-white: 12 \n"
     ]
    }
   ],
   "source": [
    "# number of columns in each dataset?\n",
    "print(\"number of columns winequality-red: {} \".format(len(df_red.columns)))\n",
    "print(\"number of columns winequality-white: {} \".format(len(df_white.columns)))\n",
    "print(\"*\"*60)\n",
    "print(\"number of columns winequality-red: {} \".format(df_red.shape[1]))\n",
    "print(\"number of columns winequality-white: {} \".format(df_white.shape[1]))"
   ]
  },
  {
   "cell_type": "code",
   "execution_count": 5,
   "metadata": {},
   "outputs": [
    {
     "name": "stdout",
     "output_type": "stream",
     "text": [
      "************************************************************\n",
      "number of missing values winequality-red: 0 \n",
      "number of missing values winequality-white: 0 \n"
     ]
    }
   ],
   "source": [
    "# features with missing values?\n",
    "#df_white.info()#>>>>>it is clean\n",
    "#df_red.info()  #>>>>>>>it is clean\n",
    "print(\"*\"*60)\n",
    "print(\"number of missing values winequality-red: {} \".format(sum(df_red.isnull().any())))\n",
    "print(\"number of missing values winequality-white: {} \".format(sum(df_white.isnull().any())))\n"
   ]
  },
  {
   "cell_type": "code",
   "execution_count": 6,
   "metadata": {},
   "outputs": [
    {
     "name": "stdout",
     "output_type": "stream",
     "text": [
      "number of duplicate rows values winequality-red: 240 \n",
      "number of duplicate rows values winequality-white: 937 \n"
     ]
    }
   ],
   "source": [
    "#duplicate rows in the white wine dataset\n",
    "print(\"number of duplicate rows values winequality-red: {} \".format(sum(df_red.duplicated())))\n",
    "print(\"number of duplicate rows values winequality-white: {} \".format(sum(df_white.duplicated())))\n"
   ]
  },
  {
   "cell_type": "code",
   "execution_count": 7,
   "metadata": {},
   "outputs": [
    {
     "name": "stdout",
     "output_type": "stream",
     "text": [
      "number of unique values for quality winequality-red: 33 \n",
      "number of unique values for quality winequality-white: 42 \n"
     ]
    }
   ],
   "source": [
    "#number of unique values for quality in each dataset\n",
    "print(\"number of unique values for quality winequality-red: {} \".format(sum(pd.unique(df_red[\"quality\"]))))\n",
    "print(\"number of unique values for quality winequality-white: {} \".format(sum(pd.unique(df_white[\"quality\"]))))"
   ]
  },
  {
   "cell_type": "code",
   "execution_count": 8,
   "metadata": {},
   "outputs": [
    {
     "name": "stdout",
     "output_type": "stream",
     "text": [
      "number of samples winequality-red: 0.9967466791744841 \n",
      "number of samples winequality-white: 0.9940273764801959 \n"
     ]
    }
   ],
   "source": [
    "# mean density of the red wine dataset?\n",
    "print(\"number of samples winequality-red: {} \".format(df_red[\"density\"].mean()))\n",
    "print(\"number of samples winequality-white: {} \".format(df_white[\"density\"].mean()))\n"
   ]
  }
 ],
 "metadata": {
  "kernelspec": {
   "display_name": "Python 3 (ipykernel)",
   "language": "python",
   "name": "python3"
  },
  "language_info": {
   "codemirror_mode": {
    "name": "ipython",
    "version": 3
   },
   "file_extension": ".py",
   "mimetype": "text/x-python",
   "name": "python",
   "nbconvert_exporter": "python",
   "pygments_lexer": "ipython3",
   "version": "3.11.1"
  }
 },
 "nbformat": 4,
 "nbformat_minor": 2
}
